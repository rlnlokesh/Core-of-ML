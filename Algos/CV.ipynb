{
 "cells": [
  {
   "cell_type": "code",
   "execution_count": 2,
   "id": "b92ce8c3-c7c7-4f19-9fac-bb7c47e1a581",
   "metadata": {},
   "outputs": [],
   "source": [
    "import numpy as np\n",
    "import pandas as pd\n",
    "from sklearn.model_selection import train_test_split\n",
    "from sklearn.model_selection import cross_val_score\n",
    "from sklearn.metrics import accuracy_score"
   ]
  },
  {
   "cell_type": "code",
   "execution_count": 4,
   "id": "2aac2519-461b-48b5-9a74-2ebc34f68f29",
   "metadata": {},
   "outputs": [],
   "source": [
    "from sklearn.linear_model import LogisticRegression\n",
    "from sklearn.svm import SVC\n",
    "from sklearn.neighbors import KNeighborsClassifier\n",
    "from sklearn.ensemble import RandomForestClassifier"
   ]
  },
  {
   "cell_type": "code",
   "execution_count": 9,
   "id": "9cf934af-caca-4a03-b5ab-8767cc1971d9",
   "metadata": {},
   "outputs": [],
   "source": [
    "heart_data = pd.read_csv(\"heart.csv\")"
   ]
  },
  {
   "cell_type": "code",
   "execution_count": 10,
   "id": "e6e1acf4-f3e1-4ee7-9956-406924ef847f",
   "metadata": {},
   "outputs": [
    {
     "data": {
      "text/html": [
       "<div>\n",
       "<style scoped>\n",
       "    .dataframe tbody tr th:only-of-type {\n",
       "        vertical-align: middle;\n",
       "    }\n",
       "\n",
       "    .dataframe tbody tr th {\n",
       "        vertical-align: top;\n",
       "    }\n",
       "\n",
       "    .dataframe thead th {\n",
       "        text-align: right;\n",
       "    }\n",
       "</style>\n",
       "<table border=\"1\" class=\"dataframe\">\n",
       "  <thead>\n",
       "    <tr style=\"text-align: right;\">\n",
       "      <th></th>\n",
       "      <th>age</th>\n",
       "      <th>sex</th>\n",
       "      <th>cp</th>\n",
       "      <th>trestbps</th>\n",
       "      <th>chol</th>\n",
       "      <th>fbs</th>\n",
       "      <th>restecg</th>\n",
       "      <th>thalach</th>\n",
       "      <th>exang</th>\n",
       "      <th>oldpeak</th>\n",
       "      <th>slope</th>\n",
       "      <th>ca</th>\n",
       "      <th>thal</th>\n",
       "      <th>target</th>\n",
       "    </tr>\n",
       "  </thead>\n",
       "  <tbody>\n",
       "    <tr>\n",
       "      <th>0</th>\n",
       "      <td>63</td>\n",
       "      <td>1</td>\n",
       "      <td>3</td>\n",
       "      <td>145</td>\n",
       "      <td>233</td>\n",
       "      <td>1</td>\n",
       "      <td>0</td>\n",
       "      <td>150</td>\n",
       "      <td>0</td>\n",
       "      <td>2.3</td>\n",
       "      <td>0</td>\n",
       "      <td>0</td>\n",
       "      <td>1</td>\n",
       "      <td>1</td>\n",
       "    </tr>\n",
       "    <tr>\n",
       "      <th>1</th>\n",
       "      <td>37</td>\n",
       "      <td>1</td>\n",
       "      <td>2</td>\n",
       "      <td>130</td>\n",
       "      <td>250</td>\n",
       "      <td>0</td>\n",
       "      <td>1</td>\n",
       "      <td>187</td>\n",
       "      <td>0</td>\n",
       "      <td>3.5</td>\n",
       "      <td>0</td>\n",
       "      <td>0</td>\n",
       "      <td>2</td>\n",
       "      <td>1</td>\n",
       "    </tr>\n",
       "    <tr>\n",
       "      <th>2</th>\n",
       "      <td>41</td>\n",
       "      <td>0</td>\n",
       "      <td>1</td>\n",
       "      <td>130</td>\n",
       "      <td>204</td>\n",
       "      <td>0</td>\n",
       "      <td>0</td>\n",
       "      <td>172</td>\n",
       "      <td>0</td>\n",
       "      <td>1.4</td>\n",
       "      <td>2</td>\n",
       "      <td>0</td>\n",
       "      <td>2</td>\n",
       "      <td>1</td>\n",
       "    </tr>\n",
       "    <tr>\n",
       "      <th>3</th>\n",
       "      <td>56</td>\n",
       "      <td>1</td>\n",
       "      <td>1</td>\n",
       "      <td>120</td>\n",
       "      <td>236</td>\n",
       "      <td>0</td>\n",
       "      <td>1</td>\n",
       "      <td>178</td>\n",
       "      <td>0</td>\n",
       "      <td>0.8</td>\n",
       "      <td>2</td>\n",
       "      <td>0</td>\n",
       "      <td>2</td>\n",
       "      <td>1</td>\n",
       "    </tr>\n",
       "    <tr>\n",
       "      <th>4</th>\n",
       "      <td>57</td>\n",
       "      <td>0</td>\n",
       "      <td>0</td>\n",
       "      <td>120</td>\n",
       "      <td>354</td>\n",
       "      <td>0</td>\n",
       "      <td>1</td>\n",
       "      <td>163</td>\n",
       "      <td>1</td>\n",
       "      <td>0.6</td>\n",
       "      <td>2</td>\n",
       "      <td>0</td>\n",
       "      <td>2</td>\n",
       "      <td>1</td>\n",
       "    </tr>\n",
       "  </tbody>\n",
       "</table>\n",
       "</div>"
      ],
      "text/plain": [
       "   age  sex  cp  trestbps  chol  fbs  restecg  thalach  exang  oldpeak  slope  \\\n",
       "0   63    1   3       145   233    1        0      150      0      2.3      0   \n",
       "1   37    1   2       130   250    0        1      187      0      3.5      0   \n",
       "2   41    0   1       130   204    0        0      172      0      1.4      2   \n",
       "3   56    1   1       120   236    0        1      178      0      0.8      2   \n",
       "4   57    0   0       120   354    0        1      163      1      0.6      2   \n",
       "\n",
       "   ca  thal  target  \n",
       "0   0     1       1  \n",
       "1   0     2       1  \n",
       "2   0     2       1  \n",
       "3   0     2       1  \n",
       "4   0     2       1  "
      ]
     },
     "execution_count": 10,
     "metadata": {},
     "output_type": "execute_result"
    }
   ],
   "source": [
    "heart_data.head()"
   ]
  },
  {
   "cell_type": "code",
   "execution_count": 11,
   "id": "704dc900-e31b-42af-9b34-4c99ca155a8c",
   "metadata": {},
   "outputs": [
    {
     "data": {
      "text/plain": [
       "(303, 14)"
      ]
     },
     "execution_count": 11,
     "metadata": {},
     "output_type": "execute_result"
    }
   ],
   "source": [
    "heart_data.shape"
   ]
  },
  {
   "cell_type": "code",
   "execution_count": 13,
   "id": "8c45be14-f740-4967-9f86-111ed8d397f3",
   "metadata": {},
   "outputs": [
    {
     "data": {
      "text/plain": [
       "age         0\n",
       "sex         0\n",
       "cp          0\n",
       "trestbps    0\n",
       "chol        0\n",
       "fbs         0\n",
       "restecg     0\n",
       "thalach     0\n",
       "exang       0\n",
       "oldpeak     0\n",
       "slope       0\n",
       "ca          0\n",
       "thal        0\n",
       "target      0\n",
       "dtype: int64"
      ]
     },
     "execution_count": 13,
     "metadata": {},
     "output_type": "execute_result"
    }
   ],
   "source": [
    "heart_data.isnull().sum()"
   ]
  },
  {
   "cell_type": "code",
   "execution_count": 14,
   "id": "548efd93-2423-4e7c-8594-ec9c17fb3af8",
   "metadata": {},
   "outputs": [
    {
     "data": {
      "text/plain": [
       "target\n",
       "1    165\n",
       "0    138\n",
       "Name: count, dtype: int64"
      ]
     },
     "execution_count": 14,
     "metadata": {},
     "output_type": "execute_result"
    }
   ],
   "source": [
    "heart_data[\"target\"].value_counts()"
   ]
  },
  {
   "cell_type": "code",
   "execution_count": 15,
   "id": "5ab823fb-86b8-47e1-b13a-366e4f0f4726",
   "metadata": {},
   "outputs": [],
   "source": [
    "X = heart_data.drop(columns = \"target\",axis = 1)\n",
    "Y = heart_data[\"target\"]"
   ]
  },
  {
   "cell_type": "code",
   "execution_count": 16,
   "id": "26d768b7-4981-4b39-994b-a79cb6934ab7",
   "metadata": {},
   "outputs": [
    {
     "name": "stdout",
     "output_type": "stream",
     "text": [
      "     age  sex  cp  trestbps  chol  fbs  restecg  thalach  exang  oldpeak  \\\n",
      "0     63    1   3       145   233    1        0      150      0      2.3   \n",
      "1     37    1   2       130   250    0        1      187      0      3.5   \n",
      "2     41    0   1       130   204    0        0      172      0      1.4   \n",
      "3     56    1   1       120   236    0        1      178      0      0.8   \n",
      "4     57    0   0       120   354    0        1      163      1      0.6   \n",
      "..   ...  ...  ..       ...   ...  ...      ...      ...    ...      ...   \n",
      "298   57    0   0       140   241    0        1      123      1      0.2   \n",
      "299   45    1   3       110   264    0        1      132      0      1.2   \n",
      "300   68    1   0       144   193    1        1      141      0      3.4   \n",
      "301   57    1   0       130   131    0        1      115      1      1.2   \n",
      "302   57    0   1       130   236    0        0      174      0      0.0   \n",
      "\n",
      "     slope  ca  thal  \n",
      "0        0   0     1  \n",
      "1        0   0     2  \n",
      "2        2   0     2  \n",
      "3        2   0     2  \n",
      "4        2   0     2  \n",
      "..     ...  ..   ...  \n",
      "298      1   0     3  \n",
      "299      1   0     3  \n",
      "300      1   2     3  \n",
      "301      1   1     3  \n",
      "302      1   1     2  \n",
      "\n",
      "[303 rows x 13 columns]\n"
     ]
    }
   ],
   "source": [
    "print(X)"
   ]
  },
  {
   "cell_type": "code",
   "execution_count": 18,
   "id": "289aef3c-8970-4640-a852-1f0aa38e4c1a",
   "metadata": {},
   "outputs": [
    {
     "name": "stdout",
     "output_type": "stream",
     "text": [
      "0      1\n",
      "1      1\n",
      "2      1\n",
      "3      1\n",
      "4      1\n",
      "      ..\n",
      "298    0\n",
      "299    0\n",
      "300    0\n",
      "301    0\n",
      "302    0\n",
      "Name: target, Length: 303, dtype: int64\n"
     ]
    }
   ],
   "source": [
    "print(Y)"
   ]
  },
  {
   "cell_type": "code",
   "execution_count": 19,
   "id": "c4823cf4-ec21-4cee-bbb0-57da7fd95835",
   "metadata": {},
   "outputs": [],
   "source": [
    "X_train , X_test , Y_train , Y_test = train_test_split(X,Y,test_size=0.2,stratify=Y,random_state=3)"
   ]
  },
  {
   "cell_type": "code",
   "execution_count": 20,
   "id": "2162e38d-84f8-4125-9a8d-0c2d64e7cf61",
   "metadata": {},
   "outputs": [
    {
     "name": "stdout",
     "output_type": "stream",
     "text": [
      "     age  sex  cp  trestbps  chol  fbs  restecg  thalach  exang  oldpeak  \\\n",
      "293   67    1   2       152   212    0        0      150      0      0.8   \n",
      "120   64    0   0       130   303    0        1      122      0      2.0   \n",
      "288   57    1   0       110   335    0        1      143      1      3.0   \n",
      "53    44    0   2       108   141    0        1      175      0      0.6   \n",
      "89    58    0   0       100   248    0        0      122      0      1.0   \n",
      "..   ...  ...  ..       ...   ...  ...      ...      ...    ...      ...   \n",
      "215   43    0   0       132   341    1        0      136      1      3.0   \n",
      "230   47    1   2       108   243    0        1      152      0      0.0   \n",
      "106   69    1   3       160   234    1        0      131      0      0.1   \n",
      "104   50    1   2       129   196    0        1      163      0      0.0   \n",
      "173   58    1   2       132   224    0        0      173      0      3.2   \n",
      "\n",
      "     slope  ca  thal  \n",
      "293      1   0     3  \n",
      "120      1   2     2  \n",
      "288      1   1     3  \n",
      "53       1   0     2  \n",
      "89       1   0     2  \n",
      "..     ...  ..   ...  \n",
      "215      1   0     3  \n",
      "230      2   0     2  \n",
      "106      1   1     2  \n",
      "104      2   0     2  \n",
      "173      2   2     3  \n",
      "\n",
      "[242 rows x 13 columns]      age  sex  cp  trestbps  chol  fbs  restecg  thalach  exang  oldpeak  \\\n",
      "246   56    0   0       134   409    0        0      150      1      1.9   \n",
      "92    52    1   2       138   223    0        1      169      0      0.0   \n",
      "60    71    0   2       110   265    1        0      130      0      0.0   \n",
      "269   56    1   0       130   283    1        0      103      1      1.6   \n",
      "262   53    1   0       123   282    0        1       95      1      2.0   \n",
      "..   ...  ...  ..       ...   ...  ...      ...      ...    ...      ...   \n",
      "141   43    1   0       115   303    0        1      181      0      1.2   \n",
      "51    66    1   0       120   302    0        0      151      0      0.4   \n",
      "208   49    1   2       120   188    0        1      139      0      2.0   \n",
      "87    46    1   1       101   197    1        1      156      0      0.0   \n",
      "12    49    1   1       130   266    0        1      171      0      0.6   \n",
      "\n",
      "     slope  ca  thal  \n",
      "246      1   2     3  \n",
      "92       2   4     2  \n",
      "60       2   1     2  \n",
      "269      0   0     3  \n",
      "262      1   2     3  \n",
      "..     ...  ..   ...  \n",
      "141      1   0     2  \n",
      "51       1   0     2  \n",
      "208      1   3     3  \n",
      "87       2   0     3  \n",
      "12       2   0     2  \n",
      "\n",
      "[61 rows x 13 columns]\n"
     ]
    }
   ],
   "source": [
    "print(X_train,X_test)"
   ]
  },
  {
   "cell_type": "code",
   "execution_count": 21,
   "id": "5b364fec-4b65-44de-9b51-5cce870368d3",
   "metadata": {},
   "outputs": [
    {
     "name": "stdout",
     "output_type": "stream",
     "text": [
      "(242, 13) (61, 13)\n"
     ]
    }
   ],
   "source": [
    "print(X_train.shape,X_test.shape)"
   ]
  },
  {
   "cell_type": "code",
   "execution_count": 35,
   "id": "7860eec4-5ce0-4e3d-a835-a2e511b52358",
   "metadata": {},
   "outputs": [],
   "source": [
    "models = [LogisticRegression(),SVC(kernel='linear'),KNeighborsClassifier(),RandomForestClassifier()]"
   ]
  },
  {
   "cell_type": "code",
   "execution_count": 36,
   "id": "15895a2b-4beb-4762-8567-0f50714dc4da",
   "metadata": {},
   "outputs": [],
   "source": [
    "def compare_models_train_test_split():\n",
    "    for model in models:\n",
    "        model.fit(X_train,Y_train)\n",
    "        test_data_prediction = model.predict(X_test)\n",
    "        accuracy = accuracy_score(Y_test,test_data_prediction)\n",
    "        print(\"Accuracy score of the \",model,\"=\",accuracy)"
   ]
  },
  {
   "cell_type": "code",
   "execution_count": 37,
   "id": "c1c97926-34a4-40a4-8b3c-5ca3c2963387",
   "metadata": {},
   "outputs": [
    {
     "name": "stdout",
     "output_type": "stream",
     "text": [
      "Accuracy score of the  LogisticRegression() = 0.8032786885245902\n",
      "Accuracy score of the  SVC(kernel='linear') = 0.7704918032786885\n",
      "Accuracy score of the  KNeighborsClassifier() = 0.6557377049180327\n",
      "Accuracy score of the  RandomForestClassifier() = 0.7704918032786885\n"
     ]
    },
    {
     "name": "stderr",
     "output_type": "stream",
     "text": [
      "C:\\Users\\HP\\anaconda3\\envs\\lokesh\\lib\\site-packages\\sklearn\\linear_model\\_logistic.py:469: ConvergenceWarning: lbfgs failed to converge (status=1):\n",
      "STOP: TOTAL NO. of ITERATIONS REACHED LIMIT.\n",
      "\n",
      "Increase the number of iterations (max_iter) or scale the data as shown in:\n",
      "    https://scikit-learn.org/stable/modules/preprocessing.html\n",
      "Please also refer to the documentation for alternative solver options:\n",
      "    https://scikit-learn.org/stable/modules/linear_model.html#logistic-regression\n",
      "  n_iter_i = _check_optimize_result(\n"
     ]
    }
   ],
   "source": [
    "compare_models_train_test_split()"
   ]
  },
  {
   "cell_type": "code",
   "execution_count": null,
   "id": "779f06db-310d-4885-a286-0c42e9cc066e",
   "metadata": {},
   "outputs": [],
   "source": [
    "#above is not so efficient because of low data points\n",
    "#so we use cross validation\n",
    "#cross validation(alternative for train test)\n",
    "#logistic"
   ]
  },
  {
   "cell_type": "code",
   "execution_count": 40,
   "id": "5c334ad3-59df-4598-85eb-75d2d90b76f5",
   "metadata": {},
   "outputs": [
    {
     "name": "stdout",
     "output_type": "stream",
     "text": [
      "[0.80327869 0.86885246 0.85245902 0.86666667 0.75      ]\n"
     ]
    }
   ],
   "source": [
    "cv_score_lr = cross_val_score(LogisticRegression(max_iter = 100000),X,Y,cv=5)\n",
    "print(cv_score_lr)"
   ]
  },
  {
   "cell_type": "code",
   "execution_count": 46,
   "id": "0ce32207-d699-48e7-8195-9fe0c4362f82",
   "metadata": {},
   "outputs": [
    {
     "name": "stdout",
     "output_type": "stream",
     "text": [
      "82.83\n"
     ]
    }
   ],
   "source": [
    "mean_accuracy_lr = sum(cv_score_lr)/len(cv_score_lr)\n",
    "mean_accuracy_lr = mean_accuracy_lr*100\n",
    "mean_accuracy_lr = round(mean_accuracy_lr,2)\n",
    "print(mean_accuracy_lr)"
   ]
  },
  {
   "cell_type": "code",
   "execution_count": null,
   "id": "5b8d21b3-6e1b-4f3e-9b4e-e3c1e4e93789",
   "metadata": {},
   "outputs": [],
   "source": [
    "#SVM"
   ]
  },
  {
   "cell_type": "code",
   "execution_count": 44,
   "id": "8bda6519-9ad5-449c-be5b-1b46ddae9028",
   "metadata": {},
   "outputs": [
    {
     "name": "stdout",
     "output_type": "stream",
     "text": [
      "[0.81967213 0.8852459  0.80327869 0.86666667 0.76666667]\n"
     ]
    }
   ],
   "source": [
    "cv_score_svm = cross_val_score(SVC(kernel = 'linear'),X,Y,cv=5)\n",
    "print(cv_score_svm)"
   ]
  },
  {
   "cell_type": "code",
   "execution_count": 48,
   "id": "10633561-1248-44ca-840d-7d4e7c58f055",
   "metadata": {},
   "outputs": [
    {
     "name": "stdout",
     "output_type": "stream",
     "text": [
      "82.83\n"
     ]
    }
   ],
   "source": [
    "mean_accuracy_svm = sum(cv_score_svm)/len(cv_score_svm)\n",
    "mean_accuracy_svm = mean_accuracy_svm*100\n",
    "mean_accuracy_svm = round(mean_accuracy_svm,2)\n",
    "print(mean_accuracy_svm)"
   ]
  },
  {
   "cell_type": "code",
   "execution_count": 54,
   "id": "8bc75200-ba2f-4633-a287-fe05b6846683",
   "metadata": {},
   "outputs": [],
   "source": [
    "models = [LogisticRegression(max_iter=10000),SVC(kernel='linear'),KNeighborsClassifier(),RandomForestClassifier()]"
   ]
  },
  {
   "cell_type": "code",
   "execution_count": 55,
   "id": "51ab1b58-b42e-459f-8503-60ed43668145",
   "metadata": {},
   "outputs": [],
   "source": [
    "def compare_models_cv():\n",
    "    for model in models:\n",
    "        cv_score = cross_val_score(model,X,Y,cv=5)\n",
    "        mean_accuracy = sum(cv_score)/len(cv_score)\n",
    "        mean_accuracy = mean_accuracy*100\n",
    "        mean_accuracy = round(mean_accuracy,2)\n",
    "        print(\"cross validation for \", model,\"= \", mean_accuracy)\n",
    "        print(\"accuracy % of the \",model,mean_accuracy)\n",
    "        print(\"------------------------------------\")"
   ]
  },
  {
   "cell_type": "code",
   "execution_count": 56,
   "id": "324281fb-1847-4f98-b623-75ce9f2539cd",
   "metadata": {},
   "outputs": [
    {
     "name": "stdout",
     "output_type": "stream",
     "text": [
      "cross validation for  LogisticRegression(max_iter=10000) =  82.83\n",
      "accuracy % of the  LogisticRegression(max_iter=10000) 82.83\n",
      "------------------------------------\n",
      "cross validation for  SVC(kernel='linear') =  82.83\n",
      "accuracy % of the  SVC(kernel='linear') 82.83\n",
      "------------------------------------\n",
      "cross validation for  KNeighborsClassifier() =  64.39\n",
      "accuracy % of the  KNeighborsClassifier() 64.39\n",
      "------------------------------------\n",
      "cross validation for  RandomForestClassifier() =  82.16\n",
      "accuracy % of the  RandomForestClassifier() 82.16\n",
      "------------------------------------\n"
     ]
    }
   ],
   "source": [
    "compare_models_cv()"
   ]
  },
  {
   "cell_type": "code",
   "execution_count": null,
   "id": "4d701b66-422a-40d6-b4fe-42f532d29f22",
   "metadata": {},
   "outputs": [],
   "source": []
  }
 ],
 "metadata": {
  "kernelspec": {
   "display_name": "Python 3 (ipykernel)",
   "language": "python",
   "name": "python3"
  },
  "language_info": {
   "codemirror_mode": {
    "name": "ipython",
    "version": 3
   },
   "file_extension": ".py",
   "mimetype": "text/x-python",
   "name": "python",
   "nbconvert_exporter": "python",
   "pygments_lexer": "ipython3",
   "version": "3.10.13"
  }
 },
 "nbformat": 4,
 "nbformat_minor": 5
}
