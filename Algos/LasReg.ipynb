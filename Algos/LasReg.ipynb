{
 "cells": [
  {
   "cell_type": "code",
   "execution_count": null,
   "id": "5eabc38e-0455-40f3-b6f2-0c7af755edac",
   "metadata": {},
   "outputs": [],
   "source": [
    "import numpy as np\n",
    "class Lasso_Regression():\n",
    "    def __init__(self,learning_rate , no_of_terms , lamda_parameter):\n",
    "        self.learning_rate = learning_rate\n",
    "        self.no_of_terms = no_of_terms\n",
    "        self.lamda_parameter = lamda_parameter\n",
    "    def fit(self,X,Y):\n",
    "        self.m,self.n = X.shape\n",
    "        self.w=np.zeros(self.n)\n",
    "        self.b=0\n",
    "        self.X=X\n",
    "        self.Y=Y\n",
    "        for i in range(self.no_of_terms):\n",
    "            self.update_weights()\n",
    "    def update_weights(self):\n",
    "        Y_prediction = self.predict(self.X)\n",
    "        dw = np.zeros(self.n)\n",
    "        for i in range(self.n):\n",
    "            if self.w[i]>0:\n",
    "                dw[i] = (-(2*(self.X[:,i]).dot(self.Y-Y_prediction))+self.lamda_parameter)/self.m\n",
    "            else:\n",
    "                dw[i] = (-(2*(self.X[:,i]).dot(self.Y-Y_prediction))-self.lamda_parameter)/self.m\n",
    "        db = -2*np.sum(self.Y-Y_prediction)/self\n",
    "        self.w = self.w-self.learning_rate*dw\n",
    "        self.b = self.b-self.learning_rate*db\n",
    "    def predict(self,X):\n",
    "        return X.dot(self.w) + self.b"
   ]
  }
 ],
 "metadata": {
  "kernelspec": {
   "display_name": "Python 3 (ipykernel)",
   "language": "python",
   "name": "python3"
  },
  "language_info": {
   "codemirror_mode": {
    "name": "ipython",
    "version": 3
   },
   "file_extension": ".py",
   "mimetype": "text/x-python",
   "name": "python",
   "nbconvert_exporter": "python",
   "pygments_lexer": "ipython3",
   "version": "3.10.13"
  }
 },
 "nbformat": 4,
 "nbformat_minor": 5
}
