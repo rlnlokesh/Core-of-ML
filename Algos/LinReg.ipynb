{
 "cells": [
  {
   "cell_type": "code",
   "execution_count": 103,
   "id": "6bfb385e-6197-4a28-882f-d71f0a23c94e",
   "metadata": {},
   "outputs": [],
   "source": [
    "import pandas as pd\n",
    "import numpy as np\n",
    "from sklearn.model_selection import train_test_split\n",
    "import matplotlib.pyplot as plt"
   ]
  },
  {
   "cell_type": "code",
   "execution_count": 104,
   "id": "4f76862c-009c-4eb0-9de5-7e4d06bedd39",
   "metadata": {},
   "outputs": [],
   "source": [
    "import numpy as np\n",
    "class Linear_Regression():\n",
    "    def __init__(self,learning_rate , no_of_terms):\n",
    "        self.learning_rate = learning_rate\n",
    "        self.no_of_terms = no_of_terms\n",
    "    def fit(self,X,Y):\n",
    "        self.m,self.n = X.shape\n",
    "        self.w=np.zeros(self.n)\n",
    "        self.b=0\n",
    "        self.X=X\n",
    "        self.Y=Y\n",
    "        for i in range(self.no_of_terms):\n",
    "            self.update_weights()\n",
    "    def update_weights(self):\n",
    "        Y_prediction = self.predict(self.X)\n",
    "        dw = -(2*(self.X.T).dot(self.Y-Y_prediction))/self.m\n",
    "        db = -2*np.sum(self.Y-Y_prediction)/self.m\n",
    "        self.w = self.w-self.learning_rate*dw\n",
    "        self.b = self.b-self.learning_rate*db\n",
    "    def predict(self,X):\n",
    "        return X.dot(self.w) + self.b"
   ]
  },
  {
   "cell_type": "code",
   "execution_count": 105,
   "id": "d0fea55b-3055-425b-961e-394f0e21badb",
   "metadata": {},
   "outputs": [],
   "source": [
    "salary_data = pd.read_csv(\"salary_data.csv\")"
   ]
  },
  {
   "cell_type": "code",
   "execution_count": 106,
   "id": "25286e1a-d87e-4028-a244-1cf30f4f4441",
   "metadata": {},
   "outputs": [
    {
     "data": {
      "text/html": [
       "<div>\n",
       "<style scoped>\n",
       "    .dataframe tbody tr th:only-of-type {\n",
       "        vertical-align: middle;\n",
       "    }\n",
       "\n",
       "    .dataframe tbody tr th {\n",
       "        vertical-align: top;\n",
       "    }\n",
       "\n",
       "    .dataframe thead th {\n",
       "        text-align: right;\n",
       "    }\n",
       "</style>\n",
       "<table border=\"1\" class=\"dataframe\">\n",
       "  <thead>\n",
       "    <tr style=\"text-align: right;\">\n",
       "      <th></th>\n",
       "      <th>YearsExperience</th>\n",
       "      <th>Salary</th>\n",
       "    </tr>\n",
       "  </thead>\n",
       "  <tbody>\n",
       "    <tr>\n",
       "      <th>0</th>\n",
       "      <td>1.1</td>\n",
       "      <td>39343</td>\n",
       "    </tr>\n",
       "    <tr>\n",
       "      <th>1</th>\n",
       "      <td>1.3</td>\n",
       "      <td>46205</td>\n",
       "    </tr>\n",
       "    <tr>\n",
       "      <th>2</th>\n",
       "      <td>1.5</td>\n",
       "      <td>37731</td>\n",
       "    </tr>\n",
       "    <tr>\n",
       "      <th>3</th>\n",
       "      <td>2.0</td>\n",
       "      <td>43525</td>\n",
       "    </tr>\n",
       "    <tr>\n",
       "      <th>4</th>\n",
       "      <td>2.2</td>\n",
       "      <td>39891</td>\n",
       "    </tr>\n",
       "  </tbody>\n",
       "</table>\n",
       "</div>"
      ],
      "text/plain": [
       "   YearsExperience  Salary\n",
       "0              1.1   39343\n",
       "1              1.3   46205\n",
       "2              1.5   37731\n",
       "3              2.0   43525\n",
       "4              2.2   39891"
      ]
     },
     "execution_count": 106,
     "metadata": {},
     "output_type": "execute_result"
    }
   ],
   "source": [
    "salary_data.head()"
   ]
  },
  {
   "cell_type": "code",
   "execution_count": 107,
   "id": "f002ca85-0ab2-421d-8eb3-06a8fcc1ea6b",
   "metadata": {},
   "outputs": [
    {
     "data": {
      "text/plain": [
       "(30, 2)"
      ]
     },
     "execution_count": 107,
     "metadata": {},
     "output_type": "execute_result"
    }
   ],
   "source": [
    "salary_data.shape"
   ]
  },
  {
   "cell_type": "code",
   "execution_count": 108,
   "id": "d5a46426-7629-4572-a723-29c39a94b02d",
   "metadata": {},
   "outputs": [
    {
     "data": {
      "text/plain": [
       "YearsExperience    0\n",
       "Salary             0\n",
       "dtype: int64"
      ]
     },
     "execution_count": 108,
     "metadata": {},
     "output_type": "execute_result"
    }
   ],
   "source": [
    "salary_data.isnull().sum()"
   ]
  },
  {
   "cell_type": "code",
   "execution_count": 111,
   "id": "63fa5e99-6378-4343-b7dd-2dcb1a80b9a0",
   "metadata": {},
   "outputs": [],
   "source": [
    "X=salary_data.iloc[:,:-1].values\n",
    "Y=salary_data.iloc[:,1].values"
   ]
  },
  {
   "cell_type": "code",
   "execution_count": 112,
   "id": "a13969d5-f9c0-4ef0-8916-d533ae970c38",
   "metadata": {},
   "outputs": [
    {
     "name": "stdout",
     "output_type": "stream",
     "text": [
      "[[ 1.1]\n",
      " [ 1.3]\n",
      " [ 1.5]\n",
      " [ 2. ]\n",
      " [ 2.2]\n",
      " [ 2.9]\n",
      " [ 3. ]\n",
      " [ 3.2]\n",
      " [ 3.2]\n",
      " [ 3.7]\n",
      " [ 3.9]\n",
      " [ 4. ]\n",
      " [ 4. ]\n",
      " [ 4.1]\n",
      " [ 4.5]\n",
      " [ 4.9]\n",
      " [ 5.1]\n",
      " [ 5.3]\n",
      " [ 5.9]\n",
      " [ 6. ]\n",
      " [ 6.8]\n",
      " [ 7.1]\n",
      " [ 7.9]\n",
      " [ 8.2]\n",
      " [ 8.7]\n",
      " [ 9. ]\n",
      " [ 9.5]\n",
      " [ 9.6]\n",
      " [10.3]\n",
      " [10.5]]\n"
     ]
    }
   ],
   "source": [
    "print(X)"
   ]
  },
  {
   "cell_type": "code",
   "execution_count": 113,
   "id": "4dfc7aaa-a505-4e41-8ed2-218b91d6cd15",
   "metadata": {},
   "outputs": [
    {
     "name": "stdout",
     "output_type": "stream",
     "text": [
      "[ 39343  46205  37731  43525  39891  56642  60150  54445  64445  57189\n",
      "  63218  55794  56957  57081  61111  67938  66029  83088  81363  93940\n",
      "  91738  98273 101302 113812 109431 105582 116969 112635 122391 121872]\n"
     ]
    }
   ],
   "source": [
    "print(Y)"
   ]
  },
  {
   "cell_type": "code",
   "execution_count": 114,
   "id": "82feac8d-ace0-4abd-b74f-e427d27a35e2",
   "metadata": {},
   "outputs": [],
   "source": [
    "X_train , X_test , Y_train , Y_test = train_test_split(X,Y,test_size=0.33,random_state = 2)"
   ]
  },
  {
   "cell_type": "code",
   "execution_count": 115,
   "id": "58462c2c-9388-4cd1-be47-86b97ed30b55",
   "metadata": {},
   "outputs": [],
   "source": [
    "model = Linear_Regression(0.002,1000)"
   ]
  },
  {
   "cell_type": "code",
   "execution_count": 116,
   "id": "550ea3dc-b966-4575-93d7-b6452e90a869",
   "metadata": {},
   "outputs": [],
   "source": [
    "model.fit(X_train,Y_train)"
   ]
  },
  {
   "cell_type": "code",
   "execution_count": 117,
   "id": "56ade331-4341-440b-9d78-059fe9521e71",
   "metadata": {},
   "outputs": [
    {
     "name": "stdout",
     "output_type": "stream",
     "text": [
      "w =  10945.020784583106\n",
      "b =  13472.151907043792\n"
     ]
    }
   ],
   "source": [
    "print(\"w = \",model.w[0])\n",
    "print(\"b = \",model.b)"
   ]
  },
  {
   "cell_type": "code",
   "execution_count": 118,
   "id": "b4cc4763-6b0c-4c0e-a2bf-d5c634f32ee6",
   "metadata": {},
   "outputs": [],
   "source": [
    "test_data_prediction = model.predict(X_test)"
   ]
  },
  {
   "cell_type": "code",
   "execution_count": 119,
   "id": "e519ba45-356b-40a6-8cd7-bfb1eb4e1372",
   "metadata": {},
   "outputs": [
    {
     "name": "stdout",
     "output_type": "stream",
     "text": [
      "[ 27700.678927    25511.67477009  62724.74543767  53968.72881\n",
      "  91181.79947758  79142.27661454 103221.32234063  46307.21426079\n",
      "  35362.19347621  87898.29324221]\n"
     ]
    }
   ],
   "source": [
    "print(test_data_prediction)"
   ]
  },
  {
   "cell_type": "code",
   "execution_count": null,
   "id": "32f7e536-b5d9-4fea-96bc-39091e37d155",
   "metadata": {},
   "outputs": [],
   "source": []
  },
  {
   "cell_type": "code",
   "execution_count": 120,
   "id": "1b5af6af-83cb-451d-8e8a-eaf2c3cdd8a6",
   "metadata": {},
   "outputs": [
    {
     "data": {
      "text/plain": [
       "<function matplotlib.pyplot.show(close=None, block=None)>"
      ]
     },
     "execution_count": 120,
     "metadata": {},
     "output_type": "execute_result"
    },
    {
     "data": {
      "image/png": "[encoded data removed]",
      "text/plain": [
       "<Figure size 640x480 with 1 Axes>"
      ]
     },
     "metadata": {},
     "output_type": "display_data"
    }
   ],
   "source": [
    "plt.scatter(X_test,Y_test,color = \"red\")\n",
    "plt.plot(X_test,test_data_prediction,color = \"blue\")\n",
    "plt.xlabel(\"work experience\")\n",
    "plt.ylabel(\"salary\")\n",
    "plt.title(\"salary vs experince\")\n",
    "plt.show"
   ]
  }
 ],
 "metadata": {
  "kernelspec": {
   "display_name": "Python 3 (ipykernel)",
   "language": "python",
   "name": "python3"
  },
  "language_info": {
   "codemirror_mode": {
    "name": "ipython",
    "version": 3
   },
   "file_extension": ".py",
   "mimetype": "text/x-python",
   "name": "python",
   "nbconvert_exporter": "python",
   "pygments_lexer": "ipython3",
   "version": "3.10.13"
  }
 },
 "nbformat": 4,
 "nbformat_minor": 5
}
